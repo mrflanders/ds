{
 "cells": [
  {
   "cell_type": "code",
   "execution_count": 4,
   "metadata": {},
   "outputs": [
    {
     "name": "stdout",
     "output_type": "stream",
     "text": [
      "\n",
      "politics 10\n",
      "world 8\n",
      "science 5\n",
      "video 10\n",
      "middleeast 3\n",
      "economics 3\n",
      "travel 1\n",
      "starlife 12\n",
      "health 2\n",
      "cis 4\n",
      "incidents 5\n",
      "sport 2\n",
      "crazy-world 2\n",
      "business 4\n",
      "head 2\n",
      "articles 7\n",
      "finances 1\n",
      "europe 1\n",
      "kinomusic 1\n",
      "lifestyle 1\n"
     ]
    }
   ],
   "source": [
    "#DZ1\n",
    "\n",
    "from typing import Dict, Any, Union\n",
    "import copy\n",
    "import re\n",
    "\n",
    "spisok3 = []\n",
    "pattern = '.*/[0-9]{8}' # шаблон страницы новостей (любые символы, потом / и 8 цифр подряд)\n",
    "pattern1 = '/[0-9]{8}.*'\n",
    "pattern2 = '/'\n",
    "pattern3 = ''\n",
    "print()\n",
    "prog = re.compile(pattern)\n",
    "# если поставить опцию 'w' при обращении к файлу, то он будет очищен\n",
    "# если 'a' - данные будут добавлены в конец файла\n",
    "with open(\"/Users/khrebtoaleksey/ds/URLs.txt\",\"r\") as f:\n",
    "    for line in f:\n",
    "        line = line.strip()           # убираем символ переноса строки для каждой читаемой строчки\n",
    "        #re.sub('ЧТО ИЩЕМ', 'ЧЕМ ЗАМЕНЯЕМ', 'СТРОКА В КОТОРОЙ ИЩЕМ')\n",
    "        if prog.match(line):\n",
    "            result = re.sub(pattern1, pattern3, line)\n",
    "            result1 = re.sub(pattern2, pattern3, result)\n",
    "            spisok3.append(result1)\n",
    "i = 0\n",
    "slovar2 = {}\n",
    "while i < len(spisok3):\n",
    "    if spisok3[i] not in slovar2.keys():\n",
    "      slovar2[spisok3[i]] = 1\n",
    "    else:\n",
    "      slovar2[spisok3[i]] =  slovar2[spisok3[i]] + 1\n",
    "    i = i + 1\n",
    "\n",
    "for key, value in slovar2.items():\n",
    "    print( key, value )\n",
    "\n",
    "with open('out.txt','w') as out:\n",
    "    for key,val in slovar2.items():\n",
    "        out.write('{}:{}\\n'.format(key,val))\n",
    "        \n",
    "#DZ1 END!\n"
   ]
  },
  {
   "cell_type": "code",
   "execution_count": null,
   "metadata": {},
   "outputs": [],
   "source": [
    "\n",
    "        "
   ]
  },
  {
   "cell_type": "code",
   "execution_count": null,
   "metadata": {},
   "outputs": [],
   "source": []
  },
  {
   "cell_type": "code",
   "execution_count": null,
   "metadata": {},
   "outputs": [],
   "source": []
  },
  {
   "cell_type": "code",
   "execution_count": null,
   "metadata": {},
   "outputs": [],
   "source": [
    "\n",
    "        "
   ]
  },
  {
   "cell_type": "code",
   "execution_count": null,
   "metadata": {},
   "outputs": [],
   "source": [
    "\n"
   ]
  },
  {
   "cell_type": "code",
   "execution_count": null,
   "metadata": {},
   "outputs": [],
   "source": []
  },
  {
   "cell_type": "code",
   "execution_count": null,
   "metadata": {},
   "outputs": [],
   "source": []
  },
  {
   "cell_type": "code",
   "execution_count": null,
   "metadata": {},
   "outputs": [],
   "source": []
  },
  {
   "cell_type": "code",
   "execution_count": null,
   "metadata": {},
   "outputs": [],
   "source": []
  },
  {
   "cell_type": "code",
   "execution_count": null,
   "metadata": {},
   "outputs": [],
   "source": []
  },
  {
   "cell_type": "code",
   "execution_count": null,
   "metadata": {},
   "outputs": [],
   "source": []
  },
  {
   "cell_type": "code",
   "execution_count": 34,
   "metadata": {},
   "outputs": [],
   "source": [
    "import csv\n",
    "\n",
    "results = []\n",
    "with open(\"/Users/khrebtoaleksey/Documents/01 Подготовка/DZ1/urls.txt\", newline='') as inputfile:\n",
    "    for row in csv.reader(inputfile):\n",
    "        results.append(row)"
   ]
  },
  {
   "cell_type": "code",
   "execution_count": null,
   "metadata": {},
   "outputs": [],
   "source": []
  }
 ],
 "metadata": {
  "kernelspec": {
   "display_name": "Python 3",
   "language": "python",
   "name": "python3"
  },
  "language_info": {
   "codemirror_mode": {
    "name": "ipython",
    "version": 3
   },
   "file_extension": ".py",
   "mimetype": "text/x-python",
   "name": "python",
   "nbconvert_exporter": "python",
   "pygments_lexer": "ipython3",
   "version": "3.7.3"
  }
 },
 "nbformat": 4,
 "nbformat_minor": 2
}
