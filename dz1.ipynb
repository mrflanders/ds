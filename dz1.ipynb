{
 "cells": [
  {
   "cell_type": "code",
   "execution_count": null,
   "metadata": {},
   "outputs": [],
   "source": [
    "a = open(\"/Users/khrebtoaleksey/ds/DZ1/urls.txt\",\"r\")\n",
    "for i in a:\n",
    "    print(i)\n",
    "    #f.read(i)"
   ]
  },
  {
   "cell_type": "code",
   "execution_count": null,
   "metadata": {},
   "outputs": [],
   "source": [
    "\n",
    "        "
   ]
  },
  {
   "cell_type": "code",
   "execution_count": null,
   "metadata": {},
   "outputs": [],
   "source": []
  },
  {
   "cell_type": "code",
   "execution_count": null,
   "metadata": {},
   "outputs": [],
   "source": [
    "# https://docs.python.org/2/library/re.html#re.compile\n",
    "import re\n",
    "\n",
    "# шаблон страницы новостей (любые символы, потом / и 8 цифр подряд)\n",
    "# http://www.petefreitag.com/cheatsheets/regex/\n",
    "pattern = '.*/[0-9]{8}'\n",
    "pattern1 ='[0-9].*'\n",
    "prog = re.compile( pattern)\n",
    "prog1 = re.compile( pattern1)"
   ]
  },
  {
   "cell_type": "code",
   "execution_count": null,
   "metadata": {},
   "outputs": [],
   "source": [
    "# если поставить опцию 'w' при обращении к файлу, то он будет очищен\n",
    "# если 'a' - данные будут добавлены в конец файла\n",
    "a = []\n",
    "with open('URLs.txt', 'r') as f:\n",
    "    \n",
    "    for line in f:\n",
    "       \n",
    "        # убираем символ переноса строки для каждой читаемой строчки\n",
    "        line = line.strip()\n",
    "        line = re.sub(r'[0-9].*', '', line) \n",
    "        line = re.sub('/', '', line) #ОТСЕКАЕМ '/'\n",
    "        line = re.sub('.*[=$].*', '0', line)\n",
    "        #re.sub('ЧТО ИЩЕМ', 'ЧЕМ ЗАМЕНЯЕМ', 'СТРОКА В КОТОРОЙ ИЩЕМ')\n",
    "        print(line)\n",
    "        a.append(line)\n",
    "        \n",
    "       # type(f)\n",
    "    #a = list(f)\n",
    "print('__________')\n",
    "print(a)    \n",
    "        # если текст строки удовлетворяем регулярному выражению pattern, то выводим строку\n",
    "        #if prog.match( line ):\n",
    "            \n",
    "         #   results.append(row)\n",
    "        "
   ]
  },
  {
   "cell_type": "code",
   "execution_count": null,
   "metadata": {},
   "outputs": [],
   "source": [
    "type(f)\n",
    "\n"
   ]
  },
  {
   "cell_type": "code",
   "execution_count": null,
   "metadata": {},
   "outputs": [],
   "source": [
    "\n",
    "\n",
    "#for line in a:\n",
    "    #stats.setdefault(line, 0)\n",
    " #   stats.append(line)\n",
    "\n",
    "#stats\n",
    "\n",
    "#d1 = {}\n",
    "#for line in a:\n",
    " #   if a(line) not in diction:\n",
    "  #      d1[a(line)] = 0\n",
    "   #     print(d1)"
   ]
  },
  {
   "cell_type": "code",
   "execution_count": null,
   "metadata": {},
   "outputs": [],
   "source": [
    "numbers = []\n",
    "b = '1'\n",
    "count1 = 0\n",
    "count = len(a)\n",
    "count\n",
    "count2 = 0\n",
    "while count1 < count:\n",
    "    b = stats(count)\n",
    "    for line in stats:\n",
    "        if b == line:\n",
    "            count2 += 1\n",
    "            numbers.append(count)\n",
    "            count = 0\n",
    "            count1++\n",
    "#for line in stats:\n",
    "  \n",
    "\n",
    "print(numbers)"
   ]
  },
  {
   "cell_type": "code",
   "execution_count": null,
   "metadata": {},
   "outputs": [],
   "source": []
  },
  {
   "cell_type": "code",
   "execution_count": null,
   "metadata": {},
   "outputs": [],
   "source": []
  },
  {
   "cell_type": "code",
   "execution_count": null,
   "metadata": {},
   "outputs": [],
   "source": []
  },
  {
   "cell_type": "code",
   "execution_count": null,
   "metadata": {},
   "outputs": [],
   "source": []
  },
  {
   "cell_type": "code",
   "execution_count": 34,
   "metadata": {},
   "outputs": [],
   "source": [
    "import csv\n",
    "\n",
    "results = []\n",
    "with open(\"/Users/khrebtoaleksey/Documents/01 Подготовка/DZ1/urls.txt\", newline='') as inputfile:\n",
    "    for row in csv.reader(inputfile):\n",
    "        results.append(row)"
   ]
  },
  {
   "cell_type": "code",
   "execution_count": null,
   "metadata": {},
   "outputs": [],
   "source": []
  }
 ],
 "metadata": {
  "kernelspec": {
   "display_name": "Python 3",
   "language": "python",
   "name": "python3"
  },
  "language_info": {
   "codemirror_mode": {
    "name": "ipython",
    "version": 3
   },
   "file_extension": ".py",
   "mimetype": "text/x-python",
   "name": "python",
   "nbconvert_exporter": "python",
   "pygments_lexer": "ipython3",
   "version": "3.7.3"
  }
 },
 "nbformat": 4,
 "nbformat_minor": 2
}
