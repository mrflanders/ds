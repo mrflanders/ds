{
 "cells": [
  {
   "cell_type": "code",
   "execution_count": null,
   "metadata": {},
   "outputs": [],
   "source": [
    "from typing import Dict, Any, Union\n",
    "import copy\n",
    "import re\n",
    "\n",
    "spisok3 = []\n",
    "pattern = '.*/[0-9]{8}'\n",
    "pattern1 = '/[0-9]{8}.*'\n",
    "pattern2 = '/'\n",
    "pattern3 = ''\n",
    "print()\n",
    "prog = re.compile(pattern)\n",
    "with open(\"hello_citizen.txt\", \"r\") as f:\n",
    "    for line in f:\n",
    "        line = line.strip()   #СѓР±РёСЂР°РµРј РїСЂРѕР±РµР»С‹ РјРµР¶РґСѓ СЃС‚СЂРѕРєР°РјРё\n",
    "        if prog.match(line):\n",
    "            result = re.sub(pattern1, pattern3, line)\n",
    "            result1 = re.sub(pattern2, pattern3, result)\n",
    "            spisok3.append(result1)\n",
    "i = 0\n",
    "slovar2 = {}\n",
    "while i < len(spisok3):\n",
    "    if spisok3[i] not in slovar2.keys():\n",
    "      slovar2[spisok3[i]] = 1\n",
    "    else:\n",
    "      slovar2[spisok3[i]] =  slovar2[spisok3[i]] + 1\n",
    "    i = i + 1\n",
    "\n",
    "for key, value in slovar2.items():\n",
    "    print( key, value )\n",
    "\n",
    "with open('out.txt','w') as out:\n",
    "    for key,val in slovar2.items():\n",
    "        out.write('{}:{}\\n'.format(key,val))"
   ]
  }
 ],
 "metadata": {
  "kernelspec": {
   "display_name": "Python 3",
   "language": "python",
   "name": "python3"
  },
  "language_info": {
   "codemirror_mode": {
    "name": "ipython",
    "version": 3
   },
   "file_extension": ".py",
   "mimetype": "text/x-python",
   "name": "python",
   "nbconvert_exporter": "python",
   "pygments_lexer": "ipython3",
   "version": "3.7.3"
  }
 },
 "nbformat": 4,
 "nbformat_minor": 2
}
